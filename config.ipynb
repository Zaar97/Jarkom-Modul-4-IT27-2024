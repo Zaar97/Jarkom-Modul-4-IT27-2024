{
 "cells": [
  {
   "cell_type": "code",
   "execution_count": null,
   "metadata": {},
   "outputs": [],
   "source": [
    "/20 = 4096\n",
    "/21 = 2048\n",
    "/22 = 1024\n",
    "/23 = 512\n",
    "/24 = 256 -> 254\n",
    "/25 = 128 -> 126\n",
    "/26 = 64 -> 62\n",
    "/27 = 32 -> 30\n",
    "/28 = 16 -> 14\n",
    "/29 = 8 -> 6\n",
    "/30 = 4 -> 2"
   ]
  },
  {
   "cell_type": "markdown",
   "metadata": {},
   "source": [
    "Client Gorontalo"
   ]
  },
  {
   "cell_type": "code",
   "execution_count": null,
   "metadata": {},
   "outputs": [],
   "source": [
    "#A2\n",
    "auto eth0\n",
    "iface eth0 inet static\n",
    "    address 10.77.20.130\n",
    "    netmask 255.255.255.128\n",
    "    gateway 10.77.20.129"
   ]
  },
  {
   "cell_type": "markdown",
   "metadata": {},
   "source": [
    "Client Marisa"
   ]
  },
  {
   "cell_type": "code",
   "execution_count": null,
   "metadata": {},
   "outputs": [],
   "source": [
    "#A2\n",
    "auto eth0\n",
    "iface eth0 inet static\n",
    "    address 10.77.20.131\n",
    "    netmask 255.255.255.128\n",
    "    gateway 10.77.20.129"
   ]
  },
  {
   "cell_type": "markdown",
   "metadata": {},
   "source": [
    "Router Jawa"
   ]
  },
  {
   "cell_type": "code",
   "execution_count": null,
   "metadata": {},
   "outputs": [],
   "source": [
    "auto lo\n",
    "iface lo inet loopback\n",
    "\n",
    "auto eth0\n",
    "iface eth0 inet dhcp\n",
    "\n",
    "#A1 Jawa-Sulawesi\n",
    "auto eth1\n",
    "iface eth1 inet static\n",
    "    address 10.77.21.181\n",
    "    netmask 255.255.255.252\n",
    "\n",
    "#A7 Jawa-Kalimantan\n",
    "auto eth2\n",
    "iface eth2 inet static\n",
    "    address 10.77.21.185\n",
    "    netmask 255.255.255.252\n",
    "\n",
    "#A15 Jawa-Sumatera\n",
    "auto eth3\n",
    "iface eth3 inet static\n",
    "    address 10.77.21.177\n",
    "    netmask 255.255.255.252"
   ]
  },
  {
   "cell_type": "markdown",
   "metadata": {},
   "source": [
    "Router Sumatra"
   ]
  },
  {
   "cell_type": "code",
   "execution_count": null,
   "metadata": {},
   "outputs": [],
   "source": [
    "auto lo\n",
    "iface lo inet loopback\n",
    "\n",
    "#A15 > JAWA\n",
    "auto eth0\n",
    "iface eth0 inet static\n",
    "    address 10.77.21.178\n",
    "    netmask 255.255.255.252\n",
    "    gateway 10.77.21.177\n",
    "\n",
    "#A16 > SW-TOBA\n",
    "auto eth1\n",
    "iface eth1 inet static\n",
    "    address 10.77.21.65\n",
    "    netmask 255.255.255.224\n",
    "\n",
    "#A20 > LAMPUNG\n",
    "auto eth2\n",
    "iface eth2 inet static\n",
    "    address 10.77.21.205\n",
    "    netmask 255.255.255.252"
   ]
  },
  {
   "cell_type": "markdown",
   "metadata": {},
   "source": [
    "Client Samosir"
   ]
  },
  {
   "cell_type": "code",
   "execution_count": null,
   "metadata": {},
   "outputs": [],
   "source": [
    "#A16\n",
    "auto eth0\n",
    "iface eth0 inet static\n",
    "    address 10.77.21.70\n",
    "    netmask 255.255.255.224\n",
    "    gateway 10.77.21.65"
   ]
  },
  {
   "cell_type": "markdown",
   "metadata": {},
   "source": [
    "Client Sibandang"
   ]
  },
  {
   "cell_type": "code",
   "execution_count": null,
   "metadata": {},
   "outputs": [],
   "source": [
    "#A16\n",
    "auto eth0\n",
    "iface eth0 inet static\n",
    "    address 10.77.21.71\n",
    "    netmask 255.255.255.224\n",
    "    gateway 10.77.21.65"
   ]
  },
  {
   "cell_type": "markdown",
   "metadata": {},
   "source": [
    "Router Lampung"
   ]
  },
  {
   "cell_type": "code",
   "execution_count": null,
   "metadata": {},
   "outputs": [],
   "source": [
    "auto lo\n",
    "iface lo inet loopback\n",
    "\n",
    "#A20 > SUMATERA\n",
    "auto eth0\n",
    "iface eth0 inet static\n",
    "    address 10.77.21.206\n",
    "    netmask 255.255.255.252\n",
    "    gateway 10.77.21.205\n",
    "\n",
    "#A21 > SW-BANDAR-LAMPUNG\n",
    "auto eth1   \n",
    "iface eth1 inet static\n",
    "    address 10.77.19.1\n",
    "    netmask 255.255.255.0"
   ]
  },
  {
   "cell_type": "markdown",
   "metadata": {},
   "source": [
    "Client Sebuku"
   ]
  },
  {
   "cell_type": "code",
   "execution_count": null,
   "metadata": {},
   "outputs": [],
   "source": [
    "#A21 > SW-BANDAR-LAMPUNG\n",
    "auto eth0\n",
    "iface eth0 inet static\n",
    "    address 10.77.19.2\n",
    "    netmask 255.255.255.0\n",
    "    gateway 10.77.19.1"
   ]
  },
  {
   "cell_type": "markdown",
   "metadata": {},
   "source": [
    "Server Sebesi"
   ]
  },
  {
   "cell_type": "code",
   "execution_count": null,
   "metadata": {},
   "outputs": [],
   "source": [
    "#A21 > SW-BANDAR-LAMPUNG\n",
    "auto eth0\n",
    "iface eth0 inet static\n",
    "    address 10.77.19.3\n",
    "    netmask 255.255.255.0\n",
    "    gateway 10.77.19.1"
   ]
  },
  {
   "cell_type": "markdown",
   "metadata": {},
   "source": [
    "Router Sumatra Utara"
   ]
  },
  {
   "cell_type": "code",
   "execution_count": null,
   "metadata": {},
   "outputs": [],
   "source": [
    "auto lo\n",
    "iface lo inet loopback\n",
    "\n",
    "#A16 > SW-TOBA\n",
    "auto eth0\n",
    "iface eth0 inet static\n",
    "    address 10.77.21.73\n",
    "    netmask 255.255.255.224\n",
    "    gateway 10.77.21.65\n",
    "\n",
    "#A17 > ACEH\n",
    "auto eth1   \n",
    "iface eth1 inet static\n",
    "    address 10.77.21.201\n",
    "    netmask 255.255.255.252"
   ]
  },
  {
   "cell_type": "markdown",
   "metadata": {},
   "source": [
    "Router Aceh"
   ]
  },
  {
   "cell_type": "code",
   "execution_count": null,
   "metadata": {},
   "outputs": [],
   "source": [
    "auto lo\n",
    "iface lo inet loopback\n",
    "\n",
    "#A17 > SUMATERA-UTARA\n",
    "auto eth0\n",
    "iface eth0 inet static\n",
    "    address 10.77.21.202\n",
    "    netmask 255.255.255.252\n",
    "    gateway 10.77.21.201\n",
    "\n",
    "#A18 > SW-BLANGKARAI\n",
    "auto eth1\n",
    "iface eth1 inet static\n",
    "    address 10.77.20.1\n",
    "    netmask 255.255.255.128\n",
    "\n",
    "\n",
    "#A19 > SW-BANDA-ACEH\n",
    "auto eth2\n",
    "iface eth1 inet static\n",
    "    address 10.77.21.129\n",
    "    netmask 255.255.255.224"
   ]
  },
  {
   "cell_type": "markdown",
   "metadata": {},
   "source": [
    "Client Berawang-Tempul"
   ]
  },
  {
   "cell_type": "code",
   "execution_count": null,
   "metadata": {},
   "outputs": [],
   "source": [
    "#A18 > SW-BLANGKARAL\n",
    "auto eth0\n",
    "iface eth0 inet static\n",
    "    address 10.77.20.2\n",
    "    netmask 255.255.255.128\n",
    "    gateway 10.77.20.1"
   ]
  },
  {
   "cell_type": "markdown",
   "metadata": {},
   "source": [
    "Client Enang-enang"
   ]
  },
  {
   "cell_type": "code",
   "execution_count": null,
   "metadata": {},
   "outputs": [],
   "source": [
    "#A18 > SW-BLANGKARAL\n",
    "auto eth0\n",
    "iface eth0 inet static\n",
    "    address 10.77.20.3\n",
    "    netmask 255.255.255.128\n",
    "    gateway 10.77.20.1"
   ]
  },
  {
   "cell_type": "markdown",
   "metadata": {},
   "source": [
    "Client Starland"
   ]
  },
  {
   "cell_type": "code",
   "execution_count": null,
   "metadata": {},
   "outputs": [],
   "source": [
    "#A18 > SW-BLANGKARAL\n",
    "auto eth0\n",
    "iface eth0 inet static\n",
    "    address 10.77.20.4\n",
    "    netmask 255.255.255.128\n",
    "    gateway 10.77.20.1"
   ]
  },
  {
   "cell_type": "markdown",
   "metadata": {},
   "source": [
    "Client Sabang"
   ]
  },
  {
   "cell_type": "code",
   "execution_count": null,
   "metadata": {},
   "outputs": [],
   "source": [
    "#A19 > SW-BANDA-ACEH\n",
    "auto eth0\n",
    "iface eth0 inet static\n",
    "    address 10.77.21.130\n",
    "    netmask 255.255.255.224\n",
    "    gateway 10.77.21.129"
   ]
  },
  {
   "cell_type": "markdown",
   "metadata": {},
   "source": [
    "Client Lambaro"
   ]
  },
  {
   "cell_type": "code",
   "execution_count": null,
   "metadata": {},
   "outputs": [],
   "source": [
    "#A19 > SW-BANDA-ACEH\n",
    "auto eth0\n",
    "iface eth0 inet static\n",
    "    address 10.77.21.131\n",
    "    netmask 255.255.255.224\n",
    "    gateway 10.77.21.129"
   ]
  },
  {
   "cell_type": "markdown",
   "metadata": {},
   "source": [
    "Router Kalimantan"
   ]
  },
  {
   "cell_type": "code",
   "execution_count": null,
   "metadata": {},
   "outputs": [],
   "source": [
    "auto lo\n",
    "iface lo inet loopback\n",
    "\n",
    "#A7 > JAWA\n",
    "auto eth0\n",
    "iface eth0 inet static\n",
    "    address 10.77.21.186\n",
    "    netmask 255.255.255.252\n",
    "    gateway 10.77.21.185\n",
    "\n",
    "#A8 > KALIMANTAN-UTARA\n",
    "auto eth1\n",
    "iface eth1 inet static\n",
    "    address 10.77.21.189\n",
    "    netmask 255.255.255.252"
   ]
  },
  {
   "cell_type": "markdown",
   "metadata": {},
   "source": [
    "Router Kalimantan Utara"
   ]
  },
  {
   "cell_type": "code",
   "execution_count": null,
   "metadata": {},
   "outputs": [],
   "source": [
    "auto lo\n",
    "iface lo inet loopback\n",
    "\n",
    "#A8 > KALIMANTAN\n",
    "auto eth0\n",
    "iface eth0 inet static\n",
    "    address 10.77.21.190\n",
    "    netmask 255.255.255.252\n",
    "    gateway 10.77.21.189\n",
    "\n",
    "#A9 > SW-TANJUNG-SELOR\n",
    "auto eth1\n",
    "iface eth1 inet static\n",
    "    address 10.77.18.1\n",
    "    netmask 255.255.255.0\n",
    "\n",
    "#A10 > KALIMANTAN-TIMUR\n",
    "auto eth2\n",
    "iface eth2 inet static\n",
    "    address 10.77.21.193\n",
    "    netmask 255.255.255.252"
   ]
  },
  {
   "cell_type": "markdown",
   "metadata": {},
   "source": [
    "Client Selimau"
   ]
  },
  {
   "cell_type": "code",
   "execution_count": null,
   "metadata": {},
   "outputs": [],
   "source": [
    "#A9 > SW-TANJUNG-SELOR\n",
    "auto eth0\n",
    "iface eth0 inet static\n",
    "    address 10.77.18.2\n",
    "    netmask 255.255.255.0\n",
    "    gateway 10.77.18.1"
   ]
  },
  {
   "cell_type": "markdown",
   "metadata": {},
   "source": [
    "Router Kalimantan Timur"
   ]
  },
  {
   "cell_type": "code",
   "execution_count": null,
   "metadata": {},
   "outputs": [],
   "source": [
    "auto lo\n",
    "iface lo inet loopback\n",
    "\n",
    "#A10 > KALIMANTAN-UTARA\n",
    "auto eth0\n",
    "iface eth0 inet static\n",
    "    address 10.77.21.194\n",
    "    netmask 255.255.255.252\n",
    "    gateway 10.77.21.193\n",
    "\n",
    "#A11 > KALIMANTAN-SELATAN\n",
    "auto eth1\n",
    "iface eth1 inet static\n",
    "    address 10.77.21.197\n",
    "    netmask 255.255.255.252\n",
    "\n",
    "#A12 > SW-BALIKPAPAN\n",
    "auto eth2\n",
    "iface eth2 inet static\n",
    "    address 10.77.16.1\n",
    "    netmask 255.255.254.0"
   ]
  },
  {
   "cell_type": "markdown",
   "metadata": {},
   "source": [
    "Server Bangkirai"
   ]
  },
  {
   "cell_type": "code",
   "execution_count": null,
   "metadata": {},
   "outputs": [],
   "source": [
    "#A12 > SW-BALIKPAPAN\n",
    "auto eth0\n",
    "iface eth0 inet static\n",
    "    address 10.77.16.4\n",
    "    netmask 255.255.254.0\n",
    "    gateway 10.77.16.1"
   ]
  },
  {
   "cell_type": "markdown",
   "metadata": {},
   "source": [
    "Client Lamaru\n"
   ]
  },
  {
   "cell_type": "code",
   "execution_count": null,
   "metadata": {},
   "outputs": [],
   "source": [
    "#A12 > SW-BALIKPAPAN\n",
    "auto eth0\n",
    "iface eth0 inet static\n",
    "    address 10.77.16.3\n",
    "    netmask 255.255.254.0\n",
    "    gateway 10.77.16.1"
   ]
  },
  {
   "cell_type": "markdown",
   "metadata": {},
   "source": [
    "Router Kalimantan Selatan"
   ]
  },
  {
   "cell_type": "code",
   "execution_count": null,
   "metadata": {},
   "outputs": [],
   "source": [
    "auto lo\n",
    "iface lo inet loopback\n",
    "\n",
    "#A11 > KALIMANTAN-TIMUR\n",
    "auto eth0\n",
    "iface eth0 inet static\n",
    "    address 10.77.21.198\n",
    "    netmask 255.255.255.252\n",
    "    gateway 10.77.21.197\n",
    "\n",
    "#A13 > SW-BOENATI\n",
    "auto eth1\n",
    "iface eth1 inet static\n",
    "    address 10.77.21.97\n",
    "    netmask 255.255.255.224\n",
    "\n",
    "\n",
    "#A14 > SW-BANJARMASIN\n",
    "auto eth2\n",
    "iface eth1 inet static\n",
    "    address 10.77.0.1\n",
    "    netmask 255.255.248.0"
   ]
  },
  {
   "cell_type": "markdown",
   "metadata": {},
   "source": [
    "Client Angsana"
   ]
  },
  {
   "cell_type": "code",
   "execution_count": null,
   "metadata": {},
   "outputs": [],
   "source": [
    "#A13 > KALIMANTAN-SELATAN\n",
    "auto eth0\n",
    "iface eth0 inet static\n",
    "    address 10.77.21.98\n",
    "    netmask 255.255.255.224\n",
    "    gateway 10.77.21.97"
   ]
  },
  {
   "cell_type": "markdown",
   "metadata": {},
   "source": [
    "Client Betakan"
   ]
  },
  {
   "cell_type": "code",
   "execution_count": null,
   "metadata": {},
   "outputs": [],
   "source": [
    "#A14\n",
    "auto eth0\n",
    "iface eth0 inet static\n",
    "    address 10.77.0.2\n",
    "    netmask 255.255.248.0\n",
    "    gateway 10.77.0.1"
   ]
  },
  {
   "cell_type": "markdown",
   "metadata": {},
   "source": [
    "Client Tekisung"
   ]
  },
  {
   "cell_type": "code",
   "execution_count": null,
   "metadata": {},
   "outputs": [],
   "source": [
    "#A14 > SW-BANJARMASIN\n",
    "auto eth0\n",
    "iface eth0 inet static\n",
    "    address 10.77.0.3\n",
    "    netmask 255.255.248.0\n",
    "    gateway 10.77.0.1"
   ]
  },
  {
   "cell_type": "markdown",
   "metadata": {},
   "source": [
    "Client Bajuin"
   ]
  },
  {
   "cell_type": "code",
   "execution_count": null,
   "metadata": {},
   "outputs": [],
   "source": [
    "#A14 > SW-BANJARMASIN\n",
    "auto eth0\n",
    "iface eth0 inet static\n",
    "    address 10.77.0.4\n",
    "    netmask 255.255.248.0\n",
    "    gateway 10.77.0.1"
   ]
  },
  {
   "cell_type": "markdown",
   "metadata": {},
   "source": [
    "Router Sulawesi"
   ]
  },
  {
   "cell_type": "code",
   "execution_count": null,
   "metadata": {},
   "outputs": [],
   "source": [
    "auto lo\n",
    "iface lo inet loopback\n",
    "\n",
    "#A1 > JAWA\n",
    "auto eth0\n",
    "iface eth0 inet static\n",
    "    address 10.77.21.182\n",
    "    netmask 255.255.255.252\n",
    "    gateway 10.77.21.181\n",
    "\n",
    "#A2 > SW-GORONTALO\n",
    "auto eth1\n",
    "iface eth1 inet static\n",
    "    address 10.77.20.129\n",
    "    netmask 255.255.255.128\n",
    "\n",
    "#A4 > SW-SULSEL\n",
    "auto eth2\n",
    "iface eth2 inet static\n",
    "    address 10.77.21.169\n",
    "    netmask 255.255.255.248"
   ]
  },
  {
   "cell_type": "markdown",
   "metadata": {},
   "source": [
    "Router Maluku Utara"
   ]
  },
  {
   "cell_type": "code",
   "execution_count": null,
   "metadata": {},
   "outputs": [],
   "source": [
    "#A2 > SW-GORONTALO\n",
    "auto eth0\n",
    "iface eth0 inet static\n",
    "    address 10.77.20.132\n",
    "    netmask 255.255.255.128\n",
    "    gateway 10.77.20.129\n",
    "\n",
    "#A3 > SW-MALUKU\n",
    "auto eth1\n",
    "iface eth1 inet static\n",
    "    address 10.77.8.1\n",
    "    netmask 255.255.248.0"
   ]
  },
  {
   "cell_type": "markdown",
   "metadata": {},
   "source": [
    "Client Tobelo"
   ]
  },
  {
   "cell_type": "code",
   "execution_count": null,
   "metadata": {},
   "outputs": [],
   "source": [
    "#A3\n",
    "auto eth0\n",
    "iface eth0 inet static\n",
    "address 10.77.8.2\n",
    "netmask 255.255.248.0\n",
    "gateway 10.77.8.1"
   ]
  },
  {
   "cell_type": "markdown",
   "metadata": {},
   "source": [
    "Client Ternate"
   ]
  },
  {
   "cell_type": "code",
   "execution_count": null,
   "metadata": {},
   "outputs": [],
   "source": [
    "#A3\n",
    "auto eth0\n",
    "iface eth0 inet static\n",
    "address 10.77.8.3\n",
    "netmask 255.255.248.0\n",
    "gateway 10.77.8.1"
   ]
  },
  {
   "cell_type": "markdown",
   "metadata": {},
   "source": [
    "Server Morotai"
   ]
  },
  {
   "cell_type": "code",
   "execution_count": null,
   "metadata": {},
   "outputs": [],
   "source": [
    "#A3\n",
    "auto eth0\n",
    "iface eth0 inet static\n",
    "    address 10.77.8.4\n",
    "    netmask 255.255.248.0\n",
    "    gateway 10.77.8.1"
   ]
  },
  {
   "cell_type": "markdown",
   "metadata": {},
   "source": [
    "Router Makasar"
   ]
  },
  {
   "cell_type": "code",
   "execution_count": null,
   "metadata": {},
   "outputs": [],
   "source": [
    "auto lo\n",
    "iface lo inet loopback\n",
    "\n",
    "#A4 > SULAWESI\n",
    "auto eth0\n",
    "iface eth0 inet static\n",
    "    address 10.77.21.170\n",
    "    netmask 255.255.255.248\n",
    "    gateway 10.77.21.169\n",
    "\n",
    "#A5 > SW-LIMBUNG\n",
    "auto eth1\n",
    "iface eth1 inet static\n",
    "    address 10.77.21.161\n",
    "    netmask 255.255.255.248"
   ]
  },
  {
   "cell_type": "markdown",
   "metadata": {},
   "source": [
    "Server Galesong"
   ]
  },
  {
   "cell_type": "code",
   "execution_count": null,
   "metadata": {},
   "outputs": [],
   "source": [
    "#A5 > SW-LIMBUNG\n",
    "auto eth0\n",
    "iface eth0 inet static\n",
    "    address 10.77.21.162\n",
    "    netmask 255.255.255.248\n",
    "    gateway 10.77.21.161"
   ]
  },
  {
   "cell_type": "markdown",
   "metadata": {},
   "source": [
    "Server Topejawa-Takalar"
   ]
  },
  {
   "cell_type": "code",
   "execution_count": null,
   "metadata": {},
   "outputs": [],
   "source": [
    "#A5 > SW-LIMBUNG\n",
    "auto eth0\n",
    "iface eth0 inet static\n",
    "    address 10.77.21.163\n",
    "    netmask 255.255.255.248\n",
    "    gateway 10.77.21.161"
   ]
  },
  {
   "cell_type": "markdown",
   "metadata": {},
   "source": [
    "Router Belawa"
   ]
  },
  {
   "cell_type": "code",
   "execution_count": null,
   "metadata": {},
   "outputs": [],
   "source": [
    "auto lo\n",
    "iface lo inet loopback\n",
    "\n",
    "#A4 > SW-SULSEL\n",
    "auto eth0\n",
    "iface eth0 inet static\n",
    "    address 10.77.21.171\n",
    "    netmask 255.255.255.248\n",
    "    gateway 10.77.21.169\n",
    "\n",
    "#A6 > SW-TEMPE\n",
    "auto eth1\n",
    "iface eth1 inet static\n",
    "    address 10.77.21.1\n",
    "    netmask 255.255.255.192"
   ]
  },
  {
   "cell_type": "markdown",
   "metadata": {},
   "source": [
    "Client Medini"
   ]
  },
  {
   "cell_type": "code",
   "execution_count": null,
   "metadata": {},
   "outputs": [],
   "source": [
    "#A6 > SW-TEMPE\n",
    "auto eth1\n",
    "iface eth1 inet static\n",
    "    address 10.77.21.2\n",
    "    netmask 255.255.255.192\n",
    "    gateway 10.77.21.1"
   ]
  },
  {
   "cell_type": "markdown",
   "metadata": {},
   "source": [
    "Client Baru"
   ]
  },
  {
   "cell_type": "code",
   "execution_count": null,
   "metadata": {},
   "outputs": [],
   "source": [
    "#A6 > SW-TEMPE\n",
    "auto eth0\n",
    "iface eth0 inet static\n",
    "    address 10.77.21.3\n",
    "    netmask 255.255.255.192\n",
    "    gateway 10.77.21.1"
   ]
  }
 ],
 "metadata": {
  "language_info": {
   "name": "python"
  }
 },
 "nbformat": 4,
 "nbformat_minor": 2
}
