{
 "cells": [
  {
   "cell_type": "markdown",
   "metadata": {},
   "source": [
    "JAWA"
   ]
  },
  {
   "cell_type": "code",
   "execution_count": null,
   "metadata": {
    "vscode": {
     "languageId": "plaintext"
    }
   },
   "outputs": [],
   "source": [
    "# Sul\n",
    "route add -net 10.77.21.168 netmask 255.255.255.248 gw 10.77.21.182\n",
    "route add -net 10.77.21.160 netmask 255.255.255.248 gw 10.77.21.182\n",
    "route add -net 10.77.20.128 netmask 255.255.255.128 gw 10.77.21.182\n",
    "route add -net 10.77.21.0 netmask 255.255.255.192 gw 10.77.21.182\n",
    "route add -net 10.77.8.0 netmask 255.255.248.0 gw 10.77.21.182\n",
    "\n",
    "# Kal\n",
    "route add -net 10.77.21.188 netmask 255.255.255.252 gw 10.77.21.186\n",
    "route add -net 10.77.18.0 netmask 255.255.255.0 gw 10.77.21.186\n",
    "route add -net 10.77.21.192 netmask 255.255.255.252 gw 10.77.21.186\n",
    "route add -net 10.77.21.196 netmask 255.255.255.252 gw 10.77.21.186\n",
    "route add -net 10.77.16.0 netmask 255.255.254.0 gw 10.77.21.186\n",
    "route add -net 10.77.21.96 netmask 255.255.255.224 gw 10.77.21.186\n",
    "route add -net 10.77.0.0 netmask 255.255.248.0 gw 10.77.21.186\n",
    "\n",
    "# Sum\n",
    "route add -net 10.77.21.64 netmask 255.255.255.224 gw 10.77.21.182\n",
    "route add -net 10.77.21.200 netmask 255.255.255.252 gw 10.77.21.182\n",
    "route add -net 10.77.20.0 netmask 255.255.255.128 gw 10.77.21.182\n",
    "route add -net 10.77.21.204 netmask 255.255.255.252 gw 10.77.21.182\n",
    "route add -net 10.77.21.128 netmask 255.255.255.224 gw 10.77.21.182\n",
    "route add -net 10.77.19.0 netmask 255.255.255.0 gw 10.77.21.182"
   ]
  },
  {
   "cell_type": "markdown",
   "metadata": {},
   "source": [
    "Sulawesi"
   ]
  },
  {
   "cell_type": "code",
   "execution_count": null,
   "metadata": {
    "vscode": {
     "languageId": "plaintext"
    }
   },
   "outputs": [],
   "source": [
    "#KE MALUKU-UTARA\n",
    "route add -net 10.77.8.0 netmask 255.255.248.0 gw 10.77.20.132\n",
    "\n",
    "#KE MAKASAR\n",
    "route add -net 10.77.21.160 netmask 255.255.255.248 gw 10.77.21.170\n",
    "\n",
    "#KE BELAWA\n",
    "route add -net 10.77.21.0 netmask 255.255.255.192 gw 10.77.21.171"
   ]
  },
  {
   "cell_type": "markdown",
   "metadata": {},
   "source": [
    "Maluku Utara"
   ]
  },
  {
   "cell_type": "markdown",
   "metadata": {},
   "source": [
    "#KE SULAWESI\n",
    "route add -net 0.0.0.0 netmask 0.0.0.0 gw 10.77.20.129"
   ]
  },
  {
   "cell_type": "markdown",
   "metadata": {},
   "source": [
    "Sumatera"
   ]
  },
  {
   "cell_type": "markdown",
   "metadata": {},
   "source": [
    "#KE SUMATERA-UTARA\n",
    "route add -net 10.77.21.184 netmask 255.255.255.252 gw 10.77.21.73\n",
    "route add -net 10.77.20.0 netmask 255.255.255.128 gw 10.77.21.73\n",
    "route add -net 10.77.21.128 netmask 255.255.255.224 gw 10.77.21.73\n",
    "\n",
    "#KE LAMPUNG\n",
    "route add -net 10.69.77.0 netmask 255.255.255.0 gw 10.77.21.206"
   ]
  },
  {
   "cell_type": "markdown",
   "metadata": {},
   "source": [
    "Belawa"
   ]
  },
  {
   "cell_type": "markdown",
   "metadata": {},
   "source": [
    "#KE SULAWESI\n",
    "route add -net 0.0.0.0 netmask 0.0.0.0 gw 10.77.21.169"
   ]
  },
  {
   "cell_type": "markdown",
   "metadata": {},
   "source": [
    "Sumatera-Utara"
   ]
  },
  {
   "cell_type": "markdown",
   "metadata": {},
   "source": [
    "route add -net 10.77.20.0 netmask 255.255.255.128 gw 10.77.21.202 #SW-BLANGKARAI\n",
    "route add -net 10.77.21.128 netmask 255.255.255.224 gw 10.77.21.202 #SW-BANDA-ACEH"
   ]
  },
  {
   "cell_type": "markdown",
   "metadata": {},
   "source": [
    "Aceh"
   ]
  },
  {
   "cell_type": "markdown",
   "metadata": {},
   "source": [
    "#KE SUMATERA UTARA\n",
    "route add -net 0.0.0.0 netmask 0.0.0.0 gw 10.77.21.201"
   ]
  },
  {
   "cell_type": "markdown",
   "metadata": {},
   "source": [
    "Kalimantan"
   ]
  },
  {
   "cell_type": "code",
   "execution_count": null,
   "metadata": {
    "vscode": {
     "languageId": "plaintext"
    }
   },
   "outputs": [],
   "source": [
    "route add -net 10.77.21.192 netmask 255.255.255.252 gw 10.77.21.190\n",
    "route add -net 10.77.18.0 netmask 255.255.254.0 gw 10.77.21.190\n",
    "route add -net 10.77.21.196 netmask 255.255.255.252 gw 10.77.21.190\n",
    "route add -net 10.77.21.96 netmask 255.255.255.224 gw 10.77.21.190\n",
    "route add -net 10.77.0.0 netmask 255.255.248.0 gw 10.77.21.190"
   ]
  },
  {
   "cell_type": "markdown",
   "metadata": {},
   "source": [
    "Kalimantan Utara"
   ]
  },
  {
   "cell_type": "markdown",
   "metadata": {},
   "source": [
    "route add -net 10.77.16.0 netmask 255.255.254.0 gw 10.77.21.194\n",
    "route add -net 10.77.21.200 netmask 255.255.255.252 gw 10.77.21.194\n",
    "route add -net 10.77.21.96 netmask 255.255.255.224 gw 10.77.21.194\n",
    "route add -net 10.77.0.0 netmask 255.255.248.0 gw 10.77.21.194"
   ]
  },
  {
   "cell_type": "markdown",
   "metadata": {},
   "source": [
    "Kalimantan Selatan"
   ]
  },
  {
   "cell_type": "code",
   "execution_count": null,
   "metadata": {
    "vscode": {
     "languageId": "plaintext"
    }
   },
   "outputs": [],
   "source": [
    "route add -net 0.0.0.0 netmask 0.0.0.0 gw 10.77.21.197"
   ]
  },
  {
   "cell_type": "markdown",
   "metadata": {},
   "source": [
    "Kalimantan Timur"
   ]
  },
  {
   "cell_type": "code",
   "execution_count": null,
   "metadata": {
    "vscode": {
     "languageId": "plaintext"
    }
   },
   "outputs": [],
   "source": [
    "route add -net 10.77.21.96 netmask 255.255.255.224 gw 10.77.21.198\n",
    "route add -net 10.77.0.0 netmask 255.255.248.0 gw 10.77.21.198"
   ]
  },
  {
   "cell_type": "markdown",
   "metadata": {},
   "source": [
    "Lampung"
   ]
  },
  {
   "cell_type": "code",
   "execution_count": null,
   "metadata": {
    "vscode": {
     "languageId": "plaintext"
    }
   },
   "outputs": [],
   "source": [
    "route add -net 0.0.0.0 netmask 0.0.0.0 gw 10.77.21.205"
   ]
  },
  {
   "cell_type": "markdown",
   "metadata": {},
   "source": [
    "Makasar"
   ]
  },
  {
   "cell_type": "markdown",
   "metadata": {},
   "source": [
    "#KE SULAWESI\n",
    "route add -net 0.0.0.0 netmask 0.0.0.0 gw 10.77.21.169"
   ]
  }
 ],
 "metadata": {
  "language_info": {
   "name": "python"
  }
 },
 "nbformat": 4,
 "nbformat_minor": 2
}
